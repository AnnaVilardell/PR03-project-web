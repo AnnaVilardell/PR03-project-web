{
 "cells": [
  {
   "cell_type": "markdown",
   "metadata": {},
   "source": [
    "# Scraping Tripadvisor: Analysis of all reviews given to the Best Rated Local Cusine Restaurant in Barcelona - Bodega Biarritz 1881\n",
    "\n",
    "__________________________________________________________________________________________________________________\n",
    "\n",
    "### Objective\n",
    "\n",
    "What are clients saying about the best rated local curinse restaurant in Barcelona? \n",
    "\n",
    "### Web Scraping Steps\n",
    "0. Imports\n",
    "1. Get main information about top1 local cusine restaurant (including: name, rating, reviews, dates...)\n",
    "2. Analyse all reviews\n",
    "    - Sentiment Analysis\n",
    "    - Evolution during Last 5 years (2015-2020)\n",
    "    - Main mention words    \n",
    "3. Get Conclusions\n",
    "__________________________________________________________________________________________________________________"
   ]
  },
  {
   "cell_type": "markdown",
   "metadata": {},
   "source": [
    "#### 0. Imports"
   ]
  },
  {
   "cell_type": "code",
   "execution_count": 47,
   "metadata": {},
   "outputs": [],
   "source": [
    "import random\n",
    "import time\n",
    "from selenium import webdriver\n",
    "import csv\n",
    "import pandas as pd\n",
    "import requests\n",
    "from bs4 import BeautifulSoup\n",
    "from wordcloud import WordCloud, ImageColorGenerator\n",
    "import matplotlib.pyplot as plt\n",
    "from datetime import datetime, date, time"
   ]
  },
  {
   "cell_type": "markdown",
   "metadata": {},
   "source": [
    "#### 1. Get main information about top1 and worst local cusine restaurant (including: name, rating, reviews, dates...)"
   ]
  },
  {
   "cell_type": "markdown",
   "metadata": {},
   "source": [
    "#### Opening url (using Selenium)"
   ]
  },
  {
   "cell_type": "code",
   "execution_count": 52,
   "metadata": {},
   "outputs": [
    {
     "name": "stderr",
     "output_type": "stream",
     "text": [
      "/usr/local/lib/python3.7/site-packages/ipykernel_launcher.py:8: DeprecationWarning: use options instead of chrome_options\n",
      "  \n"
     ]
    }
   ],
   "source": [
    "#abrimos url en incognito y sin que se abra cada vez\n",
    "options = webdriver.ChromeOptions()\n",
    "options.add_argument('--ignore-certificate-errors')\n",
    "options.add_argument('--incognito')\n",
    "options.add_argument('--headless')\n",
    "\n",
    "#importamos webdriver\n",
    "driver=webdriver.Chrome(\"/Applications/chromedriver\",chrome_options=options)\n",
    "\n",
    "\n",
    "#abrimos url info\n",
    "driver.get(\"https://www.tripadvisor.com/Restaurant_Review-g187497-d3832462-Reviews-Bodega_Biarritz_1881-Barcelona_Catalonia.html\")"
   ]
  },
  {
   "cell_type": "code",
   "execution_count": 53,
   "metadata": {},
   "outputs": [],
   "source": [
    "# function to check if the button is on the page, to avoid miss-click problem\n",
    "def check_exists_by_xpath(xpath):\n",
    "    try:\n",
    "        driver.find_element_by_xpath(xpath)\n",
    "    except NoSuchElementException:\n",
    "        return False\n",
    "    return True"
   ]
  },
  {
   "cell_type": "markdown",
   "metadata": {},
   "source": [
    "#### Opening csv file to keep data from url"
   ]
  },
  {
   "cell_type": "code",
   "execution_count": 54,
   "metadata": {},
   "outputs": [
    {
     "data": {
      "text/plain": [
       "62"
      ]
     },
     "execution_count": 54,
     "metadata": {},
     "output_type": "execute_result"
    }
   ],
   "source": [
    "# open the file to save the review\n",
    "csvFile = open(\"/Users/annavilardell/Desktop/BootcampData/PR03-project-web/PR03-project-web-Anna/Tripadvisor_Bcn_CatalanRestaurant_Top1_Reviews.csv\", 'a')\n",
    "csvWriter = csv.writer(csvFile)\n",
    "csvWriter.writerow([\"Rating\",\"Review Quote\",\"Full Review\",\"Date of review\",\"Date of visit\"])"
   ]
  },
  {
   "cell_type": "markdown",
   "metadata": {},
   "source": [
    "#### Getting specific data from url and saving it to our csv file\n"
   ]
  },
  {
   "cell_type": "code",
   "execution_count": 55,
   "metadata": {},
   "outputs": [
    {
     "name": "stdout",
     "output_type": "stream",
     "text": [
      "Oops: An Error occurred: name 'NoSuchElementException' is not defined\n"
     ]
    }
   ],
   "source": [
    "\n",
    "#1_763 reviews totales\n",
    "#177 paginas totales\n",
    "\n",
    "for i in range(0,177):\n",
    "    try:\n",
    "        \n",
    "        if (check_exists_by_xpath(\"//span[@class='taLnk ulBlueLinks']\")):\n",
    "\n",
    "            # Recogemos todo el review (incl el que no se enseña porque es muy largo) \n",
    "            driver.find_element_by_xpath(\"//span[@class='taLnk ulBlueLinks']\").click()\n",
    "            time.sleep(5)\n",
    "\n",
    "        container = driver.find_elements_by_xpath(\"//div[@class='rev_wrap ui_columns is-multiline']\")\n",
    "        num_page_items = len(container);\n",
    "\n",
    "        for j in range(num_page_items):\n",
    "\n",
    "            # Guardamos el rating\n",
    "            string = container[j].find_element_by_xpath(\".//span[contains(@class, 'ui_bubble_rating bubble_')]\").get_attribute(\"class\")\n",
    "            data = string.split(\"_\")\n",
    "\n",
    "            # Guardamos la data elegida en el csv que creamos anteriormente\n",
    "            csvWriter.writerow([data[3],\n",
    "                                container[j].find_element_by_xpath(\".//div[@class='quote']\").text,\n",
    "                                container[j].find_element_by_xpath(\".//div[@class='entry']\").text.replace(\"\\n\", \"\"),\n",
    "                                container[j].find_element_by_xpath(\".//span[@class='ratingDate']\").text,\n",
    "                                container[j].find_element_by_xpath(\".//div[@class='prw_rup prw_reviews_stay_date_hsx']\").text])\n",
    "\n",
    "        # Cambiamos de pagina\n",
    "        if (check_exists_by_xpath('//a[@class=\"nav next ui_button primary  cx_brand_refresh_phase2\"]')):\n",
    "            driver.find_element_by_xpath('//a[@class=\"nav next ui_button primary  cx_brand_refresh_phase2\"]').click()\n",
    "        time.sleep(5)\n",
    "    \n",
    "    except Exception as Error:\n",
    "        print (\"Oops: An Error occurred:\",Error)\n",
    "\n",
    "driver.close()\n",
    "\n"
   ]
  },
  {
   "cell_type": "code",
   "execution_count": 56,
   "metadata": {},
   "outputs": [],
   "source": [
    "#1761 review recopiladas antes del error"
   ]
  },
  {
   "cell_type": "markdown",
   "metadata": {},
   "source": [
    "#### 2. Analyse all reviews"
   ]
  },
  {
   "cell_type": "markdown",
   "metadata": {},
   "source": [
    "##### Putting data in a DataFrame"
   ]
  },
  {
   "cell_type": "code",
   "execution_count": 82,
   "metadata": {},
   "outputs": [],
   "source": [
    "data=pd.read_csv(\"Tripadvisor_Bcn_CatalanRestaurant_Top1_Reviews.csv\")"
   ]
  },
  {
   "cell_type": "code",
   "execution_count": 83,
   "metadata": {},
   "outputs": [
    {
     "data": {
      "text/html": [
       "<div>\n",
       "<style scoped>\n",
       "    .dataframe tbody tr th:only-of-type {\n",
       "        vertical-align: middle;\n",
       "    }\n",
       "\n",
       "    .dataframe tbody tr th {\n",
       "        vertical-align: top;\n",
       "    }\n",
       "\n",
       "    .dataframe thead th {\n",
       "        text-align: right;\n",
       "    }\n",
       "</style>\n",
       "<table border=\"1\" class=\"dataframe\">\n",
       "  <thead>\n",
       "    <tr style=\"text-align: right;\">\n",
       "      <th></th>\n",
       "      <th>Rating</th>\n",
       "      <th>Review Quote</th>\n",
       "      <th>Full Review</th>\n",
       "      <th>Date of review</th>\n",
       "      <th>Date of visit</th>\n",
       "    </tr>\n",
       "  </thead>\n",
       "  <tbody>\n",
       "    <tr>\n",
       "      <th>0</th>\n",
       "      <td>40</td>\n",
       "      <td>nice tapas and wine</td>\n",
       "      <td>The place is cool and authentic decor ! Waiter...</td>\n",
       "      <td>Reviewed June 12, 2020</td>\n",
       "      <td>Date of visit: August 2019</td>\n",
       "    </tr>\n",
       "    <tr>\n",
       "      <th>1</th>\n",
       "      <td>50</td>\n",
       "      <td>Best tapas in Barcelona?</td>\n",
       "      <td>If you’re in Barcelona, you’ll want to try som...</td>\n",
       "      <td>Reviewed March 14, 2020</td>\n",
       "      <td>Date of visit: March 2020</td>\n",
       "    </tr>\n",
       "    <tr>\n",
       "      <th>2</th>\n",
       "      <td>50</td>\n",
       "      <td>Yummy tapas!</td>\n",
       "      <td>We were looking for a different Bodega Biarrit...</td>\n",
       "      <td>Reviewed March 8, 2020</td>\n",
       "      <td>Date of visit: February 2020</td>\n",
       "    </tr>\n",
       "    <tr>\n",
       "      <th>3</th>\n",
       "      <td>50</td>\n",
       "      <td>Amazing!</td>\n",
       "      <td>The food was awesome, the atmospher was very c...</td>\n",
       "      <td>Reviewed March 6, 2020</td>\n",
       "      <td>Date of visit: March 2020</td>\n",
       "    </tr>\n",
       "    <tr>\n",
       "      <th>4</th>\n",
       "      <td>50</td>\n",
       "      <td>Best Tapas in Barcelona</td>\n",
       "      <td>It was super packed when my party of 3 arrived...</td>\n",
       "      <td>Reviewed March 2, 2020</td>\n",
       "      <td>Date of visit: March 2020</td>\n",
       "    </tr>\n",
       "    <tr>\n",
       "      <th>...</th>\n",
       "      <td>...</td>\n",
       "      <td>...</td>\n",
       "      <td>...</td>\n",
       "      <td>...</td>\n",
       "      <td>...</td>\n",
       "    </tr>\n",
       "    <tr>\n",
       "      <th>1755</th>\n",
       "      <td>50</td>\n",
       "      <td>Nipped in for a drink...... 4 hours later... f...</td>\n",
       "      <td>Passed this little tapas bar just of Placa Rei...</td>\n",
       "      <td>Reviewed June 25, 2013</td>\n",
       "      <td>Date of visit: April 2013</td>\n",
       "    </tr>\n",
       "    <tr>\n",
       "      <th>1756</th>\n",
       "      <td>50</td>\n",
       "      <td>Top Tapas</td>\n",
       "      <td>This small cosy tapas bar just off the square ...</td>\n",
       "      <td>Reviewed June 2, 2013</td>\n",
       "      <td>Date of visit: May 2013</td>\n",
       "    </tr>\n",
       "    <tr>\n",
       "      <th>1757</th>\n",
       "      <td>30</td>\n",
       "      <td>Not bad but not amazing</td>\n",
       "      <td>We went to this little restaurant last night. ...</td>\n",
       "      <td>Reviewed June 1, 2013</td>\n",
       "      <td>Date of visit: May 2013</td>\n",
       "    </tr>\n",
       "    <tr>\n",
       "      <th>1758</th>\n",
       "      <td>50</td>\n",
       "      <td>The best tapas in town!</td>\n",
       "      <td>A gem in a little street of of the placa real ...</td>\n",
       "      <td>Reviewed May 21, 2013</td>\n",
       "      <td>Date of visit: May 2013</td>\n",
       "    </tr>\n",
       "    <tr>\n",
       "      <th>1759</th>\n",
       "      <td>50</td>\n",
       "      <td>We'd go back to Barcelona just for this food!!</td>\n",
       "      <td>This little family run tapas bar was the best ...</td>\n",
       "      <td>Reviewed April 28, 2013</td>\n",
       "      <td>Date of visit: April 2013</td>\n",
       "    </tr>\n",
       "  </tbody>\n",
       "</table>\n",
       "<p>1760 rows × 5 columns</p>\n",
       "</div>"
      ],
      "text/plain": [
       "      Rating                                       Review Quote  \\\n",
       "0         40                                nice tapas and wine   \n",
       "1         50                           Best tapas in Barcelona?   \n",
       "2         50                                       Yummy tapas!   \n",
       "3         50                                           Amazing!   \n",
       "4         50                            Best Tapas in Barcelona   \n",
       "...      ...                                                ...   \n",
       "1755      50  Nipped in for a drink...... 4 hours later... f...   \n",
       "1756      50                                          Top Tapas   \n",
       "1757      30                            Not bad but not amazing   \n",
       "1758      50                            The best tapas in town!   \n",
       "1759      50     We'd go back to Barcelona just for this food!!   \n",
       "\n",
       "                                            Full Review  \\\n",
       "0     The place is cool and authentic decor ! Waiter...   \n",
       "1     If you’re in Barcelona, you’ll want to try som...   \n",
       "2     We were looking for a different Bodega Biarrit...   \n",
       "3     The food was awesome, the atmospher was very c...   \n",
       "4     It was super packed when my party of 3 arrived...   \n",
       "...                                                 ...   \n",
       "1755  Passed this little tapas bar just of Placa Rei...   \n",
       "1756  This small cosy tapas bar just off the square ...   \n",
       "1757  We went to this little restaurant last night. ...   \n",
       "1758  A gem in a little street of of the placa real ...   \n",
       "1759  This little family run tapas bar was the best ...   \n",
       "\n",
       "               Date of review                 Date of visit  \n",
       "0      Reviewed June 12, 2020    Date of visit: August 2019  \n",
       "1     Reviewed March 14, 2020     Date of visit: March 2020  \n",
       "2      Reviewed March 8, 2020  Date of visit: February 2020  \n",
       "3      Reviewed March 6, 2020     Date of visit: March 2020  \n",
       "4      Reviewed March 2, 2020     Date of visit: March 2020  \n",
       "...                       ...                           ...  \n",
       "1755   Reviewed June 25, 2013     Date of visit: April 2013  \n",
       "1756    Reviewed June 2, 2013       Date of visit: May 2013  \n",
       "1757    Reviewed June 1, 2013       Date of visit: May 2013  \n",
       "1758    Reviewed May 21, 2013       Date of visit: May 2013  \n",
       "1759  Reviewed April 28, 2013     Date of visit: April 2013  \n",
       "\n",
       "[1760 rows x 5 columns]"
      ]
     },
     "execution_count": 83,
     "metadata": {},
     "output_type": "execute_result"
    }
   ],
   "source": [
    "data"
   ]
  },
  {
   "cell_type": "code",
   "execution_count": 84,
   "metadata": {},
   "outputs": [
    {
     "data": {
      "text/plain": [
       "1760"
      ]
     },
     "execution_count": 84,
     "metadata": {},
     "output_type": "execute_result"
    }
   ],
   "source": [
    "#reviews totales\n",
    "len(data)"
   ]
  },
  {
   "cell_type": "markdown",
   "metadata": {},
   "source": [
    "##### Adding columns with usefull data"
   ]
  },
  {
   "cell_type": "code",
   "execution_count": 85,
   "metadata": {},
   "outputs": [],
   "source": [
    "#añadimos columna con el total de palabras que tiene cada review.\n",
    "#hypothesis: review más largas nos dan más info\n",
    "data[\"Total Words Review\"]=data[\"Full Review\"].apply(lambda x: len(x.split()))"
   ]
  },
  {
   "cell_type": "code",
   "execution_count": 86,
   "metadata": {},
   "outputs": [
    {
     "data": {
      "text/html": [
       "<div>\n",
       "<style scoped>\n",
       "    .dataframe tbody tr th:only-of-type {\n",
       "        vertical-align: middle;\n",
       "    }\n",
       "\n",
       "    .dataframe tbody tr th {\n",
       "        vertical-align: top;\n",
       "    }\n",
       "\n",
       "    .dataframe thead th {\n",
       "        text-align: right;\n",
       "    }\n",
       "</style>\n",
       "<table border=\"1\" class=\"dataframe\">\n",
       "  <thead>\n",
       "    <tr style=\"text-align: right;\">\n",
       "      <th></th>\n",
       "      <th>Rating</th>\n",
       "      <th>Review Quote</th>\n",
       "      <th>Full Review</th>\n",
       "      <th>Date of review</th>\n",
       "      <th>Date of visit</th>\n",
       "      <th>Total Words Review</th>\n",
       "    </tr>\n",
       "  </thead>\n",
       "  <tbody>\n",
       "    <tr>\n",
       "      <th>0</th>\n",
       "      <td>40</td>\n",
       "      <td>nice tapas and wine</td>\n",
       "      <td>The place is cool and authentic decor ! Waiter...</td>\n",
       "      <td>Reviewed June 12, 2020</td>\n",
       "      <td>Date of visit: August 2019</td>\n",
       "      <td>44</td>\n",
       "    </tr>\n",
       "    <tr>\n",
       "      <th>1</th>\n",
       "      <td>50</td>\n",
       "      <td>Best tapas in Barcelona?</td>\n",
       "      <td>If you’re in Barcelona, you’ll want to try som...</td>\n",
       "      <td>Reviewed March 14, 2020</td>\n",
       "      <td>Date of visit: March 2020</td>\n",
       "      <td>141</td>\n",
       "    </tr>\n",
       "    <tr>\n",
       "      <th>2</th>\n",
       "      <td>50</td>\n",
       "      <td>Yummy tapas!</td>\n",
       "      <td>We were looking for a different Bodega Biarrit...</td>\n",
       "      <td>Reviewed March 8, 2020</td>\n",
       "      <td>Date of visit: February 2020</td>\n",
       "      <td>129</td>\n",
       "    </tr>\n",
       "  </tbody>\n",
       "</table>\n",
       "</div>"
      ],
      "text/plain": [
       "   Rating              Review Quote  \\\n",
       "0      40       nice tapas and wine   \n",
       "1      50  Best tapas in Barcelona?   \n",
       "2      50              Yummy tapas!   \n",
       "\n",
       "                                         Full Review           Date of review  \\\n",
       "0  The place is cool and authentic decor ! Waiter...   Reviewed June 12, 2020   \n",
       "1  If you’re in Barcelona, you’ll want to try som...  Reviewed March 14, 2020   \n",
       "2  We were looking for a different Bodega Biarrit...   Reviewed March 8, 2020   \n",
       "\n",
       "                  Date of visit  Total Words Review  \n",
       "0    Date of visit: August 2019                  44  \n",
       "1     Date of visit: March 2020                 141  \n",
       "2  Date of visit: February 2020                 129  "
      ]
     },
     "execution_count": 86,
     "metadata": {},
     "output_type": "execute_result"
    }
   ],
   "source": [
    "#comprobamos\n",
    "data.head(3)"
   ]
  },
  {
   "cell_type": "code",
   "execution_count": 87,
   "metadata": {},
   "outputs": [],
   "source": [
    "#Encontramos las stopwords (palabra sin significado propio) de cada review\n",
    "import nltk\n",
    "from nltk.corpus import stopwords \n",
    "stop_words=stopwords.words(\"english\")"
   ]
  },
  {
   "cell_type": "code",
   "execution_count": 88,
   "metadata": {},
   "outputs": [],
   "source": [
    "data[\"Total StopWords\"]=data[\"Full Review\"].apply(lambda x: len([word for word in x.split() if word.lower() in stop_words]))\n",
    "\n"
   ]
  },
  {
   "cell_type": "code",
   "execution_count": 89,
   "metadata": {},
   "outputs": [
    {
     "data": {
      "text/html": [
       "<div>\n",
       "<style scoped>\n",
       "    .dataframe tbody tr th:only-of-type {\n",
       "        vertical-align: middle;\n",
       "    }\n",
       "\n",
       "    .dataframe tbody tr th {\n",
       "        vertical-align: top;\n",
       "    }\n",
       "\n",
       "    .dataframe thead th {\n",
       "        text-align: right;\n",
       "    }\n",
       "</style>\n",
       "<table border=\"1\" class=\"dataframe\">\n",
       "  <thead>\n",
       "    <tr style=\"text-align: right;\">\n",
       "      <th></th>\n",
       "      <th>Rating</th>\n",
       "      <th>Review Quote</th>\n",
       "      <th>Full Review</th>\n",
       "      <th>Date of review</th>\n",
       "      <th>Date of visit</th>\n",
       "      <th>Total Words Review</th>\n",
       "      <th>Total StopWords</th>\n",
       "    </tr>\n",
       "  </thead>\n",
       "  <tbody>\n",
       "    <tr>\n",
       "      <th>0</th>\n",
       "      <td>40</td>\n",
       "      <td>nice tapas and wine</td>\n",
       "      <td>The place is cool and authentic decor ! Waiter...</td>\n",
       "      <td>Reviewed June 12, 2020</td>\n",
       "      <td>Date of visit: August 2019</td>\n",
       "      <td>44</td>\n",
       "      <td>20</td>\n",
       "    </tr>\n",
       "    <tr>\n",
       "      <th>1</th>\n",
       "      <td>50</td>\n",
       "      <td>Best tapas in Barcelona?</td>\n",
       "      <td>If you’re in Barcelona, you’ll want to try som...</td>\n",
       "      <td>Reviewed March 14, 2020</td>\n",
       "      <td>Date of visit: March 2020</td>\n",
       "      <td>141</td>\n",
       "      <td>59</td>\n",
       "    </tr>\n",
       "    <tr>\n",
       "      <th>2</th>\n",
       "      <td>50</td>\n",
       "      <td>Yummy tapas!</td>\n",
       "      <td>We were looking for a different Bodega Biarrit...</td>\n",
       "      <td>Reviewed March 8, 2020</td>\n",
       "      <td>Date of visit: February 2020</td>\n",
       "      <td>129</td>\n",
       "      <td>66</td>\n",
       "    </tr>\n",
       "  </tbody>\n",
       "</table>\n",
       "</div>"
      ],
      "text/plain": [
       "   Rating              Review Quote  \\\n",
       "0      40       nice tapas and wine   \n",
       "1      50  Best tapas in Barcelona?   \n",
       "2      50              Yummy tapas!   \n",
       "\n",
       "                                         Full Review           Date of review  \\\n",
       "0  The place is cool and authentic decor ! Waiter...   Reviewed June 12, 2020   \n",
       "1  If you’re in Barcelona, you’ll want to try som...  Reviewed March 14, 2020   \n",
       "2  We were looking for a different Bodega Biarrit...   Reviewed March 8, 2020   \n",
       "\n",
       "                  Date of visit  Total Words Review  Total StopWords  \n",
       "0    Date of visit: August 2019                  44               20  \n",
       "1     Date of visit: March 2020                 141               59  \n",
       "2  Date of visit: February 2020                 129               66  "
      ]
     },
     "execution_count": 89,
     "metadata": {},
     "output_type": "execute_result"
    }
   ],
   "source": [
    "#comprobamos\n",
    "data.head(3)"
   ]
  },
  {
   "cell_type": "markdown",
   "metadata": {},
   "source": [
    "###### Cleaning data"
   ]
  },
  {
   "cell_type": "code",
   "execution_count": 90,
   "metadata": {},
   "outputs": [
    {
     "data": {
      "text/plain": [
       "0    40\n",
       "1    50\n",
       "2    50\n",
       "Name: Rating, dtype: int64"
      ]
     },
     "execution_count": 90,
     "metadata": {},
     "output_type": "execute_result"
    }
   ],
   "source": [
    "#Cleaning column Rating\n",
    "##?? quiero separar 4 4 del 0##\n",
    "data[\"Rating\"].head(3)"
   ]
  },
  {
   "cell_type": "code",
   "execution_count": 91,
   "metadata": {},
   "outputs": [],
   "source": [
    "#Cleaning column \"Date of review\" \n",
    "data[\"Date of review\"]=data[\"Date of review\"].str.replace(\"Reviewed\",\"\")\n"
   ]
  },
  {
   "cell_type": "code",
   "execution_count": 92,
   "metadata": {},
   "outputs": [],
   "source": [
    "#Cleaning column \"Date of visit\"\n",
    "data[\"Date of visit\"]=data[\"Date of visit\"].str.replace(\"Date of visit:\",\"\")\n"
   ]
  },
  {
   "cell_type": "code",
   "execution_count": 93,
   "metadata": {},
   "outputs": [
    {
     "data": {
      "text/plain": [
       "0        [ June 12,  2020]\n",
       "1       [ March 14,  2020]\n",
       "2        [ March 8,  2020]\n",
       "3        [ March 6,  2020]\n",
       "4        [ March 2,  2020]\n",
       "               ...        \n",
       "1755     [ June 25,  2013]\n",
       "1756      [ June 2,  2013]\n",
       "1757      [ June 1,  2013]\n",
       "1758      [ May 21,  2013]\n",
       "1759    [ April 28,  2013]\n",
       "Name: Date of review, Length: 1760, dtype: object"
      ]
     },
     "execution_count": 93,
     "metadata": {},
     "output_type": "execute_result"
    }
   ],
   "source": [
    "#Split year,month and date of column \"Date of review\" \n",
    "data[\"Date of review\"]=data[\"Date of review\"].str.split(\",\")\n",
    "data[\"Date of review\"]"
   ]
  },
  {
   "cell_type": "code",
   "execution_count": 94,
   "metadata": {},
   "outputs": [
    {
     "data": {
      "text/plain": [
       "[' March 14', ' 2020']"
      ]
     },
     "execution_count": 94,
     "metadata": {},
     "output_type": "execute_result"
    }
   ],
   "source": [
    "data[\"Date of review\"][1]"
   ]
  },
  {
   "cell_type": "code",
   "execution_count": 95,
   "metadata": {},
   "outputs": [
    {
     "data": {
      "text/plain": [
       "0        2020\n",
       "1        2020\n",
       "2        2020\n",
       "3        2020\n",
       "4        2020\n",
       "        ...  \n",
       "1755     2013\n",
       "1756     2013\n",
       "1757     2013\n",
       "1758     2013\n",
       "1759     2013\n",
       "Name: Year of review, Length: 1760, dtype: object"
      ]
     },
     "execution_count": 95,
     "metadata": {},
     "output_type": "execute_result"
    }
   ],
   "source": [
    "data[\"Year of review\"]=[i[1] for i in data[\"Date of review\"]]\n",
    "data[\"Year of review\"]"
   ]
  },
  {
   "cell_type": "code",
   "execution_count": 96,
   "metadata": {},
   "outputs": [
    {
     "data": {
      "text/plain": [
       "0         June \n",
       "1        March \n",
       "2        March \n",
       "3        March \n",
       "4        March \n",
       "         ...   \n",
       "1755      June \n",
       "1756      June \n",
       "1757      June \n",
       "1758       May \n",
       "1759     April \n",
       "Name: Month of review, Length: 1760, dtype: object"
      ]
     },
     "execution_count": 96,
     "metadata": {},
     "output_type": "execute_result"
    }
   ],
   "source": [
    "data[\"Month of review\"]=[i[0] for i in data[\"Date of review\"]]\n",
    "data[\"Month of review\"]=data[\"Month of review\"].str.replace(\"(\\d)\",\"\")\n",
    "data[\"Month of review\"]"
   ]
  },
  {
   "cell_type": "code",
   "execution_count": 97,
   "metadata": {},
   "outputs": [],
   "source": [
    "#Changing month name to number (this will be use for the table/graphic at the end)\n",
    "def Month_Name_to_Number(x):\n",
    "    m = {\n",
    "        'January': 1,\n",
    "        'February': 2,\n",
    "        'March': 3,\n",
    "        'April':4,\n",
    "         'May':5,\n",
    "         'June':6,\n",
    "         'July':7,\n",
    "         'August':8,\n",
    "         'September':9,\n",
    "         'October':10,\n",
    "         'November':11,\n",
    "         'December':12\n",
    "        }\n",
    "    n = x.strip()\n",
    "    out = m[n]\n",
    "    return out"
   ]
  },
  {
   "cell_type": "code",
   "execution_count": 98,
   "metadata": {},
   "outputs": [],
   "source": [
    "data[\"Month of review\"]=data[\"Month of review\"].apply(Month_Name_to_Number)\n"
   ]
  },
  {
   "cell_type": "code",
   "execution_count": 99,
   "metadata": {},
   "outputs": [
    {
     "data": {
      "text/plain": [
       "0       6\n",
       "1       3\n",
       "2       3\n",
       "3       3\n",
       "4       3\n",
       "       ..\n",
       "1755    6\n",
       "1756    6\n",
       "1757    6\n",
       "1758    5\n",
       "1759    4\n",
       "Name: Month of review, Length: 1760, dtype: int64"
      ]
     },
     "execution_count": 99,
     "metadata": {},
     "output_type": "execute_result"
    }
   ],
   "source": [
    "data[\"Month of review\"]"
   ]
  },
  {
   "cell_type": "code",
   "execution_count": 100,
   "metadata": {},
   "outputs": [
    {
     "data": {
      "text/plain": [
       "0       12\n",
       "1       14\n",
       "2        8\n",
       "3        6\n",
       "4        2\n",
       "        ..\n",
       "1755    25\n",
       "1756     2\n",
       "1757     1\n",
       "1758    21\n",
       "1759    28\n",
       "Name: Day of review, Length: 1760, dtype: object"
      ]
     },
     "execution_count": 100,
     "metadata": {},
     "output_type": "execute_result"
    }
   ],
   "source": [
    "data[\"Day of review\"]=[i[0] for i in data[\"Date of review\"]]\n",
    "data[\"Day of review\"]=data[\"Day of review\"].str.replace(\"(\\D)\",\"\")\n",
    "data[\"Day of review\"]"
   ]
  },
  {
   "cell_type": "code",
   "execution_count": 101,
   "metadata": {},
   "outputs": [],
   "source": [
    "#Cleaning column \"Full Reviews\"\n",
    "#To be able to analyse \"Full Reviews\": \n",
    "#we will turn all words to lower case and remove punctuatuins and stopwords\n",
    "\n",
    "#first we turn all words to lower case words\n",
    "data[\"Clean Full Review\"]=data[\"Full Review\"].apply(lambda x: \" \".join(word.lower() for word in x.split()))"
   ]
  },
  {
   "cell_type": "code",
   "execution_count": 102,
   "metadata": {},
   "outputs": [],
   "source": [
    "#second we remove punctuation\n",
    "data[\"Clean Full Review\"]=data[\"Clean Full Review\"].str.replace(\"[^\\w\\s]\",\"\")"
   ]
  },
  {
   "cell_type": "code",
   "execution_count": 103,
   "metadata": {},
   "outputs": [],
   "source": [
    "#third we take out StopeWords\n",
    "data[\"Clean Full Review\"]=data[\"Clean Full Review\"].apply(lambda x: \" \".join(word for word in x.split() if word not in stop_words))"
   ]
  },
  {
   "cell_type": "code",
   "execution_count": 104,
   "metadata": {},
   "outputs": [
    {
     "data": {
      "text/html": [
       "<div>\n",
       "<style scoped>\n",
       "    .dataframe tbody tr th:only-of-type {\n",
       "        vertical-align: middle;\n",
       "    }\n",
       "\n",
       "    .dataframe tbody tr th {\n",
       "        vertical-align: top;\n",
       "    }\n",
       "\n",
       "    .dataframe thead th {\n",
       "        text-align: right;\n",
       "    }\n",
       "</style>\n",
       "<table border=\"1\" class=\"dataframe\">\n",
       "  <thead>\n",
       "    <tr style=\"text-align: right;\">\n",
       "      <th></th>\n",
       "      <th>Rating</th>\n",
       "      <th>Review Quote</th>\n",
       "      <th>Full Review</th>\n",
       "      <th>Date of review</th>\n",
       "      <th>Date of visit</th>\n",
       "      <th>Total Words Review</th>\n",
       "      <th>Total StopWords</th>\n",
       "      <th>Year of review</th>\n",
       "      <th>Month of review</th>\n",
       "      <th>Day of review</th>\n",
       "      <th>Clean Full Review</th>\n",
       "    </tr>\n",
       "  </thead>\n",
       "  <tbody>\n",
       "    <tr>\n",
       "      <th>0</th>\n",
       "      <td>40</td>\n",
       "      <td>nice tapas and wine</td>\n",
       "      <td>The place is cool and authentic decor ! Waiter...</td>\n",
       "      <td>[ June 12,  2020]</td>\n",
       "      <td>August 2019</td>\n",
       "      <td>44</td>\n",
       "      <td>20</td>\n",
       "      <td>2020</td>\n",
       "      <td>6</td>\n",
       "      <td>12</td>\n",
       "      <td>place cool authentic decor waiters nice gave g...</td>\n",
       "    </tr>\n",
       "    <tr>\n",
       "      <th>1</th>\n",
       "      <td>50</td>\n",
       "      <td>Best tapas in Barcelona?</td>\n",
       "      <td>If you’re in Barcelona, you’ll want to try som...</td>\n",
       "      <td>[ March 14,  2020]</td>\n",
       "      <td>March 2020</td>\n",
       "      <td>141</td>\n",
       "      <td>59</td>\n",
       "      <td>2020</td>\n",
       "      <td>3</td>\n",
       "      <td>14</td>\n",
       "      <td>youre barcelona youll want try tapas time try ...</td>\n",
       "    </tr>\n",
       "    <tr>\n",
       "      <th>2</th>\n",
       "      <td>50</td>\n",
       "      <td>Yummy tapas!</td>\n",
       "      <td>We were looking for a different Bodega Biarrit...</td>\n",
       "      <td>[ March 8,  2020]</td>\n",
       "      <td>February 2020</td>\n",
       "      <td>129</td>\n",
       "      <td>66</td>\n",
       "      <td>2020</td>\n",
       "      <td>3</td>\n",
       "      <td>8</td>\n",
       "      <td>looking different bodega biarritz ended one lo...</td>\n",
       "    </tr>\n",
       "  </tbody>\n",
       "</table>\n",
       "</div>"
      ],
      "text/plain": [
       "   Rating              Review Quote  \\\n",
       "0      40       nice tapas and wine   \n",
       "1      50  Best tapas in Barcelona?   \n",
       "2      50              Yummy tapas!   \n",
       "\n",
       "                                         Full Review      Date of review  \\\n",
       "0  The place is cool and authentic decor ! Waiter...   [ June 12,  2020]   \n",
       "1  If you’re in Barcelona, you’ll want to try som...  [ March 14,  2020]   \n",
       "2  We were looking for a different Bodega Biarrit...   [ March 8,  2020]   \n",
       "\n",
       "    Date of visit  Total Words Review  Total StopWords Year of review  \\\n",
       "0     August 2019                  44               20           2020   \n",
       "1      March 2020                 141               59           2020   \n",
       "2   February 2020                 129               66           2020   \n",
       "\n",
       "   Month of review Day of review  \\\n",
       "0                6            12   \n",
       "1                3            14   \n",
       "2                3             8   \n",
       "\n",
       "                                   Clean Full Review  \n",
       "0  place cool authentic decor waiters nice gave g...  \n",
       "1  youre barcelona youll want try tapas time try ...  \n",
       "2  looking different bodega biarritz ended one lo...  "
      ]
     },
     "execution_count": 104,
     "metadata": {},
     "output_type": "execute_result"
    }
   ],
   "source": [
    "data.head(3)"
   ]
  },
  {
   "cell_type": "code",
   "execution_count": 105,
   "metadata": {},
   "outputs": [
    {
     "data": {
      "text/plain": [
       "tapas         1886\n",
       "food          1266\n",
       "less          1118\n",
       "place         1002\n",
       "great          863\n",
       "good           680\n",
       "bar            641\n",
       "staff          603\n",
       "us             593\n",
       "barcelona      524\n",
       "friendly       514\n",
       "wait           494\n",
       "small          493\n",
       "service        480\n",
       "restaurant     451\n",
       "worth          403\n",
       "best           400\n",
       "would          381\n",
       "get            377\n",
       "really         362\n",
       "amazing        356\n",
       "go             351\n",
       "one            350\n",
       "delicious      328\n",
       "back           319\n",
       "recommend      316\n",
       "like           312\n",
       "menu           310\n",
       "went           309\n",
       "experience     288\n",
       "atmosphere     286\n",
       "little         283\n",
       "time           278\n",
       "well           277\n",
       "nice           263\n",
       "definitely     257\n",
       "people         255\n",
       "dishes         240\n",
       "2              239\n",
       "try            237\n",
       "dtype: int64"
      ]
     },
     "execution_count": 105,
     "metadata": {},
     "output_type": "execute_result"
    }
   ],
   "source": [
    "#See the most mention words\n",
    "pd.Series(\" \".join(data[\"Clean Full Review\"]).split()).value_counts()[:40]"
   ]
  },
  {
   "cell_type": "code",
   "execution_count": 106,
   "metadata": {},
   "outputs": [],
   "source": [
    "#Lemmatiziation (vi que era divertido de incluir para tener la data más limpia-condensamos más las palabras)\n",
    "from textblob import Word\n",
    "data[\"Clean Full Review\"]=data[\"Clean Full Review\"].apply(lambda x: \" \".join(Word(word).lemmatize() for word in x.split()))\n",
    "\n"
   ]
  },
  {
   "cell_type": "code",
   "execution_count": 107,
   "metadata": {},
   "outputs": [
    {
     "data": {
      "text/html": [
       "<div>\n",
       "<style scoped>\n",
       "    .dataframe tbody tr th:only-of-type {\n",
       "        vertical-align: middle;\n",
       "    }\n",
       "\n",
       "    .dataframe tbody tr th {\n",
       "        vertical-align: top;\n",
       "    }\n",
       "\n",
       "    .dataframe thead th {\n",
       "        text-align: right;\n",
       "    }\n",
       "</style>\n",
       "<table border=\"1\" class=\"dataframe\">\n",
       "  <thead>\n",
       "    <tr style=\"text-align: right;\">\n",
       "      <th></th>\n",
       "      <th>Rating</th>\n",
       "      <th>Review Quote</th>\n",
       "      <th>Full Review</th>\n",
       "      <th>Date of review</th>\n",
       "      <th>Date of visit</th>\n",
       "      <th>Total Words Review</th>\n",
       "      <th>Total StopWords</th>\n",
       "      <th>Year of review</th>\n",
       "      <th>Month of review</th>\n",
       "      <th>Day of review</th>\n",
       "      <th>Clean Full Review</th>\n",
       "    </tr>\n",
       "  </thead>\n",
       "  <tbody>\n",
       "    <tr>\n",
       "      <th>0</th>\n",
       "      <td>40</td>\n",
       "      <td>nice tapas and wine</td>\n",
       "      <td>The place is cool and authentic decor ! Waiter...</td>\n",
       "      <td>[ June 12,  2020]</td>\n",
       "      <td>August 2019</td>\n",
       "      <td>44</td>\n",
       "      <td>20</td>\n",
       "      <td>2020</td>\n",
       "      <td>6</td>\n",
       "      <td>12</td>\n",
       "      <td>place cool authentic decor waiter nice gave go...</td>\n",
       "    </tr>\n",
       "    <tr>\n",
       "      <th>1</th>\n",
       "      <td>50</td>\n",
       "      <td>Best tapas in Barcelona?</td>\n",
       "      <td>If you’re in Barcelona, you’ll want to try som...</td>\n",
       "      <td>[ March 14,  2020]</td>\n",
       "      <td>March 2020</td>\n",
       "      <td>141</td>\n",
       "      <td>59</td>\n",
       "      <td>2020</td>\n",
       "      <td>3</td>\n",
       "      <td>14</td>\n",
       "      <td>youre barcelona youll want try tapa time try t...</td>\n",
       "    </tr>\n",
       "    <tr>\n",
       "      <th>2</th>\n",
       "      <td>50</td>\n",
       "      <td>Yummy tapas!</td>\n",
       "      <td>We were looking for a different Bodega Biarrit...</td>\n",
       "      <td>[ March 8,  2020]</td>\n",
       "      <td>February 2020</td>\n",
       "      <td>129</td>\n",
       "      <td>66</td>\n",
       "      <td>2020</td>\n",
       "      <td>3</td>\n",
       "      <td>8</td>\n",
       "      <td>looking different bodega biarritz ended one lo...</td>\n",
       "    </tr>\n",
       "  </tbody>\n",
       "</table>\n",
       "</div>"
      ],
      "text/plain": [
       "   Rating              Review Quote  \\\n",
       "0      40       nice tapas and wine   \n",
       "1      50  Best tapas in Barcelona?   \n",
       "2      50              Yummy tapas!   \n",
       "\n",
       "                                         Full Review      Date of review  \\\n",
       "0  The place is cool and authentic decor ! Waiter...   [ June 12,  2020]   \n",
       "1  If you’re in Barcelona, you’ll want to try som...  [ March 14,  2020]   \n",
       "2  We were looking for a different Bodega Biarrit...   [ March 8,  2020]   \n",
       "\n",
       "    Date of visit  Total Words Review  Total StopWords Year of review  \\\n",
       "0     August 2019                  44               20           2020   \n",
       "1      March 2020                 141               59           2020   \n",
       "2   February 2020                 129               66           2020   \n",
       "\n",
       "   Month of review Day of review  \\\n",
       "0                6            12   \n",
       "1                3            14   \n",
       "2                3             8   \n",
       "\n",
       "                                   Clean Full Review  \n",
       "0  place cool authentic decor waiter nice gave go...  \n",
       "1  youre barcelona youll want try tapa time try t...  \n",
       "2  looking different bodega biarritz ended one lo...  "
      ]
     },
     "execution_count": 107,
     "metadata": {},
     "output_type": "execute_result"
    }
   ],
   "source": [
    "#comprobamos\n",
    "data.head(3)"
   ]
  },
  {
   "cell_type": "markdown",
   "metadata": {},
   "source": [
    "###### Reorganize data to have a nice table"
   ]
  },
  {
   "cell_type": "code",
   "execution_count": 108,
   "metadata": {},
   "outputs": [],
   "source": [
    "#Set \"Year of Review\" as Index follow by \"Month of review\" , \"Day of review\" and rating \n",
    "data=data.sort_values([\"Year of review\",\"Month of review\",\"Day of review\",\"Rating\"], ascending=[True,True,True,True])\n"
   ]
  },
  {
   "cell_type": "code",
   "execution_count": 109,
   "metadata": {},
   "outputs": [
    {
     "data": {
      "text/html": [
       "<div>\n",
       "<style scoped>\n",
       "    .dataframe tbody tr th:only-of-type {\n",
       "        vertical-align: middle;\n",
       "    }\n",
       "\n",
       "    .dataframe tbody tr th {\n",
       "        vertical-align: top;\n",
       "    }\n",
       "\n",
       "    .dataframe thead th {\n",
       "        text-align: right;\n",
       "    }\n",
       "</style>\n",
       "<table border=\"1\" class=\"dataframe\">\n",
       "  <thead>\n",
       "    <tr style=\"text-align: right;\">\n",
       "      <th></th>\n",
       "      <th>Rating</th>\n",
       "      <th>Review Quote</th>\n",
       "      <th>Full Review</th>\n",
       "      <th>Date of review</th>\n",
       "      <th>Date of visit</th>\n",
       "      <th>Total Words Review</th>\n",
       "      <th>Total StopWords</th>\n",
       "      <th>Year of review</th>\n",
       "      <th>Month of review</th>\n",
       "      <th>Day of review</th>\n",
       "      <th>Clean Full Review</th>\n",
       "    </tr>\n",
       "  </thead>\n",
       "  <tbody>\n",
       "    <tr>\n",
       "      <th>1759</th>\n",
       "      <td>50</td>\n",
       "      <td>We'd go back to Barcelona just for this food!!</td>\n",
       "      <td>This little family run tapas bar was the best ...</td>\n",
       "      <td>[ April 28,  2013]</td>\n",
       "      <td>April 2013</td>\n",
       "      <td>159</td>\n",
       "      <td>79</td>\n",
       "      <td>2013</td>\n",
       "      <td>4</td>\n",
       "      <td>28</td>\n",
       "      <td>little family run tapa bar best thing ever stu...</td>\n",
       "    </tr>\n",
       "    <tr>\n",
       "      <th>1758</th>\n",
       "      <td>50</td>\n",
       "      <td>The best tapas in town!</td>\n",
       "      <td>A gem in a little street of of the placa real ...</td>\n",
       "      <td>[ May 21,  2013]</td>\n",
       "      <td>May 2013</td>\n",
       "      <td>143</td>\n",
       "      <td>65</td>\n",
       "      <td>2013</td>\n",
       "      <td>5</td>\n",
       "      <td>21</td>\n",
       "      <td>gem little street placa real la ramblasthe sta...</td>\n",
       "    </tr>\n",
       "    <tr>\n",
       "      <th>1757</th>\n",
       "      <td>30</td>\n",
       "      <td>Not bad but not amazing</td>\n",
       "      <td>We went to this little restaurant last night. ...</td>\n",
       "      <td>[ June 1,  2013]</td>\n",
       "      <td>May 2013</td>\n",
       "      <td>202</td>\n",
       "      <td>100</td>\n",
       "      <td>2013</td>\n",
       "      <td>6</td>\n",
       "      <td>1</td>\n",
       "      <td>went little restaurant last night relatively e...</td>\n",
       "    </tr>\n",
       "  </tbody>\n",
       "</table>\n",
       "</div>"
      ],
      "text/plain": [
       "      Rating                                    Review Quote  \\\n",
       "1759      50  We'd go back to Barcelona just for this food!!   \n",
       "1758      50                         The best tapas in town!   \n",
       "1757      30                         Not bad but not amazing   \n",
       "\n",
       "                                            Full Review      Date of review  \\\n",
       "1759  This little family run tapas bar was the best ...  [ April 28,  2013]   \n",
       "1758  A gem in a little street of of the placa real ...    [ May 21,  2013]   \n",
       "1757  We went to this little restaurant last night. ...    [ June 1,  2013]   \n",
       "\n",
       "     Date of visit  Total Words Review  Total StopWords Year of review  \\\n",
       "1759    April 2013                 159               79           2013   \n",
       "1758      May 2013                 143               65           2013   \n",
       "1757      May 2013                 202              100           2013   \n",
       "\n",
       "      Month of review Day of review  \\\n",
       "1759                4            28   \n",
       "1758                5            21   \n",
       "1757                6             1   \n",
       "\n",
       "                                      Clean Full Review  \n",
       "1759  little family run tapa bar best thing ever stu...  \n",
       "1758  gem little street placa real la ramblasthe sta...  \n",
       "1757  went little restaurant last night relatively e...  "
      ]
     },
     "execution_count": 109,
     "metadata": {},
     "output_type": "execute_result"
    }
   ],
   "source": [
    "data.head(3)"
   ]
  },
  {
   "cell_type": "code",
   "execution_count": 110,
   "metadata": {},
   "outputs": [
    {
     "data": {
      "text/plain": [
       "Index(['Rating', 'Review Quote', 'Full Review', 'Date of review',\n",
       "       'Date of visit', 'Total Words Review', 'Total StopWords',\n",
       "       'Year of review', 'Month of review', 'Day of review',\n",
       "       'Clean Full Review'],\n",
       "      dtype='object')"
      ]
     },
     "execution_count": 110,
     "metadata": {},
     "output_type": "execute_result"
    }
   ],
   "source": [
    "#Chose columns to be in thee final table and inthe right order\n",
    "data.columns"
   ]
  },
  {
   "cell_type": "code",
   "execution_count": 111,
   "metadata": {},
   "outputs": [],
   "source": [
    "data=data[['Year of review','Month of review', 'Day of review','Rating', 'Review Quote', 'Full Review','Clean Full Review', 'Total Words Review', 'Total StopWords']]"
   ]
  },
  {
   "cell_type": "code",
   "execution_count": 112,
   "metadata": {},
   "outputs": [
    {
     "data": {
      "text/html": [
       "<div>\n",
       "<style scoped>\n",
       "    .dataframe tbody tr th:only-of-type {\n",
       "        vertical-align: middle;\n",
       "    }\n",
       "\n",
       "    .dataframe tbody tr th {\n",
       "        vertical-align: top;\n",
       "    }\n",
       "\n",
       "    .dataframe thead th {\n",
       "        text-align: right;\n",
       "    }\n",
       "</style>\n",
       "<table border=\"1\" class=\"dataframe\">\n",
       "  <thead>\n",
       "    <tr style=\"text-align: right;\">\n",
       "      <th></th>\n",
       "      <th>Year of review</th>\n",
       "      <th>Month of review</th>\n",
       "      <th>Day of review</th>\n",
       "      <th>Rating</th>\n",
       "      <th>Review Quote</th>\n",
       "      <th>Full Review</th>\n",
       "      <th>Clean Full Review</th>\n",
       "      <th>Total Words Review</th>\n",
       "      <th>Total StopWords</th>\n",
       "    </tr>\n",
       "  </thead>\n",
       "  <tbody>\n",
       "    <tr>\n",
       "      <th>1759</th>\n",
       "      <td>2013</td>\n",
       "      <td>4</td>\n",
       "      <td>28</td>\n",
       "      <td>50</td>\n",
       "      <td>We'd go back to Barcelona just for this food!!</td>\n",
       "      <td>This little family run tapas bar was the best ...</td>\n",
       "      <td>little family run tapa bar best thing ever stu...</td>\n",
       "      <td>159</td>\n",
       "      <td>79</td>\n",
       "    </tr>\n",
       "    <tr>\n",
       "      <th>1758</th>\n",
       "      <td>2013</td>\n",
       "      <td>5</td>\n",
       "      <td>21</td>\n",
       "      <td>50</td>\n",
       "      <td>The best tapas in town!</td>\n",
       "      <td>A gem in a little street of of the placa real ...</td>\n",
       "      <td>gem little street placa real la ramblasthe sta...</td>\n",
       "      <td>143</td>\n",
       "      <td>65</td>\n",
       "    </tr>\n",
       "    <tr>\n",
       "      <th>1757</th>\n",
       "      <td>2013</td>\n",
       "      <td>6</td>\n",
       "      <td>1</td>\n",
       "      <td>30</td>\n",
       "      <td>Not bad but not amazing</td>\n",
       "      <td>We went to this little restaurant last night. ...</td>\n",
       "      <td>went little restaurant last night relatively e...</td>\n",
       "      <td>202</td>\n",
       "      <td>100</td>\n",
       "    </tr>\n",
       "  </tbody>\n",
       "</table>\n",
       "</div>"
      ],
      "text/plain": [
       "     Year of review  Month of review Day of review  Rating  \\\n",
       "1759           2013                4            28      50   \n",
       "1758           2013                5            21      50   \n",
       "1757           2013                6             1      30   \n",
       "\n",
       "                                        Review Quote  \\\n",
       "1759  We'd go back to Barcelona just for this food!!   \n",
       "1758                         The best tapas in town!   \n",
       "1757                         Not bad but not amazing   \n",
       "\n",
       "                                            Full Review  \\\n",
       "1759  This little family run tapas bar was the best ...   \n",
       "1758  A gem in a little street of of the placa real ...   \n",
       "1757  We went to this little restaurant last night. ...   \n",
       "\n",
       "                                      Clean Full Review  Total Words Review  \\\n",
       "1759  little family run tapa bar best thing ever stu...                 159   \n",
       "1758  gem little street placa real la ramblasthe sta...                 143   \n",
       "1757  went little restaurant last night relatively e...                 202   \n",
       "\n",
       "      Total StopWords  \n",
       "1759               79  \n",
       "1758               65  \n",
       "1757              100  "
      ]
     },
     "execution_count": 112,
     "metadata": {},
     "output_type": "execute_result"
    }
   ],
   "source": [
    "data.head(3)"
   ]
  },
  {
   "cell_type": "code",
   "execution_count": 113,
   "metadata": {},
   "outputs": [],
   "source": [
    "#reset index and delete the old one \n",
    "data.reset_index(drop=True, inplace=True) "
   ]
  },
  {
   "cell_type": "code",
   "execution_count": 114,
   "metadata": {},
   "outputs": [
    {
     "data": {
      "text/html": [
       "<div>\n",
       "<style scoped>\n",
       "    .dataframe tbody tr th:only-of-type {\n",
       "        vertical-align: middle;\n",
       "    }\n",
       "\n",
       "    .dataframe tbody tr th {\n",
       "        vertical-align: top;\n",
       "    }\n",
       "\n",
       "    .dataframe thead th {\n",
       "        text-align: right;\n",
       "    }\n",
       "</style>\n",
       "<table border=\"1\" class=\"dataframe\">\n",
       "  <thead>\n",
       "    <tr style=\"text-align: right;\">\n",
       "      <th></th>\n",
       "      <th>Year of review</th>\n",
       "      <th>Month of review</th>\n",
       "      <th>Day of review</th>\n",
       "      <th>Rating</th>\n",
       "      <th>Review Quote</th>\n",
       "      <th>Full Review</th>\n",
       "      <th>Clean Full Review</th>\n",
       "      <th>Total Words Review</th>\n",
       "      <th>Total StopWords</th>\n",
       "    </tr>\n",
       "  </thead>\n",
       "  <tbody>\n",
       "    <tr>\n",
       "      <th>0</th>\n",
       "      <td>2013</td>\n",
       "      <td>4</td>\n",
       "      <td>28</td>\n",
       "      <td>50</td>\n",
       "      <td>We'd go back to Barcelona just for this food!!</td>\n",
       "      <td>This little family run tapas bar was the best ...</td>\n",
       "      <td>little family run tapa bar best thing ever stu...</td>\n",
       "      <td>159</td>\n",
       "      <td>79</td>\n",
       "    </tr>\n",
       "    <tr>\n",
       "      <th>1</th>\n",
       "      <td>2013</td>\n",
       "      <td>5</td>\n",
       "      <td>21</td>\n",
       "      <td>50</td>\n",
       "      <td>The best tapas in town!</td>\n",
       "      <td>A gem in a little street of of the placa real ...</td>\n",
       "      <td>gem little street placa real la ramblasthe sta...</td>\n",
       "      <td>143</td>\n",
       "      <td>65</td>\n",
       "    </tr>\n",
       "    <tr>\n",
       "      <th>2</th>\n",
       "      <td>2013</td>\n",
       "      <td>6</td>\n",
       "      <td>1</td>\n",
       "      <td>30</td>\n",
       "      <td>Not bad but not amazing</td>\n",
       "      <td>We went to this little restaurant last night. ...</td>\n",
       "      <td>went little restaurant last night relatively e...</td>\n",
       "      <td>202</td>\n",
       "      <td>100</td>\n",
       "    </tr>\n",
       "    <tr>\n",
       "      <th>3</th>\n",
       "      <td>2013</td>\n",
       "      <td>6</td>\n",
       "      <td>2</td>\n",
       "      <td>50</td>\n",
       "      <td>Top Tapas</td>\n",
       "      <td>This small cosy tapas bar just off the square ...</td>\n",
       "      <td>small cosy tapa bar square fantastic turned la...</td>\n",
       "      <td>54</td>\n",
       "      <td>23</td>\n",
       "    </tr>\n",
       "    <tr>\n",
       "      <th>4</th>\n",
       "      <td>2013</td>\n",
       "      <td>6</td>\n",
       "      <td>25</td>\n",
       "      <td>50</td>\n",
       "      <td>A gem of a place!</td>\n",
       "      <td>We stumbled on this little tapas bar and made ...</td>\n",
       "      <td>stumbled little tapa bar made sure returned fo...</td>\n",
       "      <td>70</td>\n",
       "      <td>34</td>\n",
       "    </tr>\n",
       "  </tbody>\n",
       "</table>\n",
       "</div>"
      ],
      "text/plain": [
       "  Year of review  Month of review Day of review  Rating  \\\n",
       "0           2013                4            28      50   \n",
       "1           2013                5            21      50   \n",
       "2           2013                6             1      30   \n",
       "3           2013                6             2      50   \n",
       "4           2013                6            25      50   \n",
       "\n",
       "                                     Review Quote  \\\n",
       "0  We'd go back to Barcelona just for this food!!   \n",
       "1                         The best tapas in town!   \n",
       "2                         Not bad but not amazing   \n",
       "3                                       Top Tapas   \n",
       "4                               A gem of a place!   \n",
       "\n",
       "                                         Full Review  \\\n",
       "0  This little family run tapas bar was the best ...   \n",
       "1  A gem in a little street of of the placa real ...   \n",
       "2  We went to this little restaurant last night. ...   \n",
       "3  This small cosy tapas bar just off the square ...   \n",
       "4  We stumbled on this little tapas bar and made ...   \n",
       "\n",
       "                                   Clean Full Review  Total Words Review  \\\n",
       "0  little family run tapa bar best thing ever stu...                 159   \n",
       "1  gem little street placa real la ramblasthe sta...                 143   \n",
       "2  went little restaurant last night relatively e...                 202   \n",
       "3  small cosy tapa bar square fantastic turned la...                  54   \n",
       "4  stumbled little tapa bar made sure returned fo...                  70   \n",
       "\n",
       "   Total StopWords  \n",
       "0               79  \n",
       "1               65  \n",
       "2              100  \n",
       "3               23  \n",
       "4               34  "
      ]
     },
     "execution_count": 114,
     "metadata": {},
     "output_type": "execute_result"
    }
   ],
   "source": [
    "data.head()"
   ]
  },
  {
   "cell_type": "code",
   "execution_count": 115,
   "metadata": {},
   "outputs": [],
   "source": [
    "#Save clean data to csv\n",
    "data.to_csv('Tripadvisor_Bcn_CatalanRestaurant_Top1_Reviews_Clean.csv')"
   ]
  },
  {
   "cell_type": "markdown",
   "metadata": {},
   "source": [
    "##### Sentiment Analysis\n",
    "We categorize opinions. It helps us to determine if a review is positive, negative, or neutral"
   ]
  },
  {
   "cell_type": "code",
   "execution_count": 116,
   "metadata": {},
   "outputs": [],
   "source": [
    "data_clean=pd.read_csv(\"Tripadvisor_Bcn_CatalanRestaurant_Top1_Reviews_Clean.csv\")"
   ]
  },
  {
   "cell_type": "code",
   "execution_count": 117,
   "metadata": {},
   "outputs": [],
   "source": [
    "from textblob import TextBlob"
   ]
  },
  {
   "cell_type": "code",
   "execution_count": 118,
   "metadata": {},
   "outputs": [
    {
     "data": {
      "text/plain": [
       "0       (0.08125000000000002, 0.5658333333333332)\n",
       "1        (0.17058823529411765, 0.396078431372549)\n",
       "2       (0.08506235827664399, 0.4676870748299319)\n",
       "3          (0.299920634920635, 0.602063492063492)\n",
       "4        (0.2752551020408163, 0.5514739229024943)\n",
       "                          ...                    \n",
       "1755    (0.37777777777777777, 0.5879629629629629)\n",
       "1756     (0.3025641025641026, 0.5628205128205128)\n",
       "1757    (0.39999999999999997, 0.4984126984126984)\n",
       "1758     (0.2545454545454545, 0.5840909090909091)\n",
       "1759               (0.28541666666666665, 0.45625)\n",
       "Name: Clean Full Review, Length: 1760, dtype: object"
      ]
     },
     "execution_count": 118,
     "metadata": {},
     "output_type": "execute_result"
    }
   ],
   "source": [
    "data_clean[\"Clean Full Review\"].apply(lambda x: TextBlob(x).sentiment)"
   ]
  },
  {
   "cell_type": "code",
   "execution_count": 119,
   "metadata": {},
   "outputs": [],
   "source": [
    "#Creamos la columna para la Polarity Rate \n",
    "data_clean[\"Polarity Rate\"]=data_clean[\"Clean Full Review\"].apply(lambda x: TextBlob(x).sentiment[0])"
   ]
  },
  {
   "cell_type": "code",
   "execution_count": 120,
   "metadata": {},
   "outputs": [],
   "source": [
    "#Creamos la columna para la Subjectivity Rate \n",
    "data_clean[\"Subjectivity Rate\"]=data_clean[\"Clean Full Review\"].apply(lambda x: TextBlob(x).sentiment[1])"
   ]
  },
  {
   "cell_type": "code",
   "execution_count": 121,
   "metadata": {},
   "outputs": [
    {
     "data": {
      "text/html": [
       "<div>\n",
       "<style scoped>\n",
       "    .dataframe tbody tr th:only-of-type {\n",
       "        vertical-align: middle;\n",
       "    }\n",
       "\n",
       "    .dataframe tbody tr th {\n",
       "        vertical-align: top;\n",
       "    }\n",
       "\n",
       "    .dataframe thead th {\n",
       "        text-align: right;\n",
       "    }\n",
       "</style>\n",
       "<table border=\"1\" class=\"dataframe\">\n",
       "  <thead>\n",
       "    <tr style=\"text-align: right;\">\n",
       "      <th></th>\n",
       "      <th>Unnamed: 0</th>\n",
       "      <th>Year of review</th>\n",
       "      <th>Month of review</th>\n",
       "      <th>Day of review</th>\n",
       "      <th>Rating</th>\n",
       "      <th>Review Quote</th>\n",
       "      <th>Full Review</th>\n",
       "      <th>Clean Full Review</th>\n",
       "      <th>Total Words Review</th>\n",
       "      <th>Total StopWords</th>\n",
       "      <th>Polarity Rate</th>\n",
       "      <th>Subjectivity Rate</th>\n",
       "    </tr>\n",
       "  </thead>\n",
       "  <tbody>\n",
       "    <tr>\n",
       "      <th>0</th>\n",
       "      <td>0</td>\n",
       "      <td>2013</td>\n",
       "      <td>4</td>\n",
       "      <td>28</td>\n",
       "      <td>50</td>\n",
       "      <td>We'd go back to Barcelona just for this food!!</td>\n",
       "      <td>This little family run tapas bar was the best ...</td>\n",
       "      <td>little family run tapa bar best thing ever stu...</td>\n",
       "      <td>159</td>\n",
       "      <td>79</td>\n",
       "      <td>0.081250</td>\n",
       "      <td>0.565833</td>\n",
       "    </tr>\n",
       "    <tr>\n",
       "      <th>1</th>\n",
       "      <td>1</td>\n",
       "      <td>2013</td>\n",
       "      <td>5</td>\n",
       "      <td>21</td>\n",
       "      <td>50</td>\n",
       "      <td>The best tapas in town!</td>\n",
       "      <td>A gem in a little street of of the placa real ...</td>\n",
       "      <td>gem little street placa real la ramblasthe sta...</td>\n",
       "      <td>143</td>\n",
       "      <td>65</td>\n",
       "      <td>0.170588</td>\n",
       "      <td>0.396078</td>\n",
       "    </tr>\n",
       "  </tbody>\n",
       "</table>\n",
       "</div>"
      ],
      "text/plain": [
       "   Unnamed: 0  Year of review  Month of review  Day of review  Rating  \\\n",
       "0           0            2013                4             28      50   \n",
       "1           1            2013                5             21      50   \n",
       "\n",
       "                                     Review Quote  \\\n",
       "0  We'd go back to Barcelona just for this food!!   \n",
       "1                         The best tapas in town!   \n",
       "\n",
       "                                         Full Review  \\\n",
       "0  This little family run tapas bar was the best ...   \n",
       "1  A gem in a little street of of the placa real ...   \n",
       "\n",
       "                                   Clean Full Review  Total Words Review  \\\n",
       "0  little family run tapa bar best thing ever stu...                 159   \n",
       "1  gem little street placa real la ramblasthe sta...                 143   \n",
       "\n",
       "   Total StopWords  Polarity Rate  Subjectivity Rate  \n",
       "0               79       0.081250           0.565833  \n",
       "1               65       0.170588           0.396078  "
      ]
     },
     "execution_count": 121,
     "metadata": {},
     "output_type": "execute_result"
    }
   ],
   "source": [
    "#comprobamos\n",
    "data_clean.head(2)"
   ]
  },
  {
   "cell_type": "code",
   "execution_count": 122,
   "metadata": {},
   "outputs": [],
   "source": [
    "#To make sure we easy see the sentiment rate, we add a new column stating: Positive, negative or neutral feeling\n",
    "\n",
    "def sentiment(mark):\n",
    "    if mark <0:\n",
    "        return \"Negative\"\n",
    "    elif mark==0:\n",
    "        return \"Neutral\"\n",
    "    elif mark>0:\n",
    "        return \"Positive\""
   ]
  },
  {
   "cell_type": "code",
   "execution_count": 123,
   "metadata": {},
   "outputs": [],
   "source": [
    "#we apply the function to \"polarity rate\" column as suppose to be more objective than \"Subjectivity rate\"\n",
    "data_clean[\"Sentiment\"]=data_clean[\"Polarity Rate\"].apply(sentiment)"
   ]
  },
  {
   "cell_type": "code",
   "execution_count": 124,
   "metadata": {},
   "outputs": [
    {
     "data": {
      "text/html": [
       "<div>\n",
       "<style scoped>\n",
       "    .dataframe tbody tr th:only-of-type {\n",
       "        vertical-align: middle;\n",
       "    }\n",
       "\n",
       "    .dataframe tbody tr th {\n",
       "        vertical-align: top;\n",
       "    }\n",
       "\n",
       "    .dataframe thead th {\n",
       "        text-align: right;\n",
       "    }\n",
       "</style>\n",
       "<table border=\"1\" class=\"dataframe\">\n",
       "  <thead>\n",
       "    <tr style=\"text-align: right;\">\n",
       "      <th></th>\n",
       "      <th>Unnamed: 0</th>\n",
       "      <th>Year of review</th>\n",
       "      <th>Month of review</th>\n",
       "      <th>Day of review</th>\n",
       "      <th>Rating</th>\n",
       "      <th>Review Quote</th>\n",
       "      <th>Full Review</th>\n",
       "      <th>Clean Full Review</th>\n",
       "      <th>Total Words Review</th>\n",
       "      <th>Total StopWords</th>\n",
       "      <th>Polarity Rate</th>\n",
       "      <th>Subjectivity Rate</th>\n",
       "      <th>Sentiment</th>\n",
       "    </tr>\n",
       "  </thead>\n",
       "  <tbody>\n",
       "    <tr>\n",
       "      <th>0</th>\n",
       "      <td>0</td>\n",
       "      <td>2013</td>\n",
       "      <td>4</td>\n",
       "      <td>28</td>\n",
       "      <td>50</td>\n",
       "      <td>We'd go back to Barcelona just for this food!!</td>\n",
       "      <td>This little family run tapas bar was the best ...</td>\n",
       "      <td>little family run tapa bar best thing ever stu...</td>\n",
       "      <td>159</td>\n",
       "      <td>79</td>\n",
       "      <td>0.081250</td>\n",
       "      <td>0.565833</td>\n",
       "      <td>Positive</td>\n",
       "    </tr>\n",
       "    <tr>\n",
       "      <th>1</th>\n",
       "      <td>1</td>\n",
       "      <td>2013</td>\n",
       "      <td>5</td>\n",
       "      <td>21</td>\n",
       "      <td>50</td>\n",
       "      <td>The best tapas in town!</td>\n",
       "      <td>A gem in a little street of of the placa real ...</td>\n",
       "      <td>gem little street placa real la ramblasthe sta...</td>\n",
       "      <td>143</td>\n",
       "      <td>65</td>\n",
       "      <td>0.170588</td>\n",
       "      <td>0.396078</td>\n",
       "      <td>Positive</td>\n",
       "    </tr>\n",
       "  </tbody>\n",
       "</table>\n",
       "</div>"
      ],
      "text/plain": [
       "   Unnamed: 0  Year of review  Month of review  Day of review  Rating  \\\n",
       "0           0            2013                4             28      50   \n",
       "1           1            2013                5             21      50   \n",
       "\n",
       "                                     Review Quote  \\\n",
       "0  We'd go back to Barcelona just for this food!!   \n",
       "1                         The best tapas in town!   \n",
       "\n",
       "                                         Full Review  \\\n",
       "0  This little family run tapas bar was the best ...   \n",
       "1  A gem in a little street of of the placa real ...   \n",
       "\n",
       "                                   Clean Full Review  Total Words Review  \\\n",
       "0  little family run tapa bar best thing ever stu...                 159   \n",
       "1  gem little street placa real la ramblasthe sta...                 143   \n",
       "\n",
       "   Total StopWords  Polarity Rate  Subjectivity Rate Sentiment  \n",
       "0               79       0.081250           0.565833  Positive  \n",
       "1               65       0.170588           0.396078  Positive  "
      ]
     },
     "execution_count": 124,
     "metadata": {},
     "output_type": "execute_result"
    }
   ],
   "source": [
    "#comprobamos\n",
    "data_clean.head(2)"
   ]
  },
  {
   "cell_type": "code",
   "execution_count": 125,
   "metadata": {},
   "outputs": [
    {
     "data": {
      "text/html": [
       "<div>\n",
       "<style scoped>\n",
       "    .dataframe tbody tr th:only-of-type {\n",
       "        vertical-align: middle;\n",
       "    }\n",
       "\n",
       "    .dataframe tbody tr th {\n",
       "        vertical-align: top;\n",
       "    }\n",
       "\n",
       "    .dataframe thead th {\n",
       "        text-align: right;\n",
       "    }\n",
       "</style>\n",
       "<table border=\"1\" class=\"dataframe\">\n",
       "  <thead>\n",
       "    <tr style=\"text-align: right;\">\n",
       "      <th></th>\n",
       "      <th>Unnamed: 0</th>\n",
       "      <th>Year of review</th>\n",
       "      <th>Month of review</th>\n",
       "      <th>Day of review</th>\n",
       "      <th>Rating</th>\n",
       "      <th>Total Words Review</th>\n",
       "      <th>Total StopWords</th>\n",
       "      <th>Polarity Rate</th>\n",
       "      <th>Subjectivity Rate</th>\n",
       "    </tr>\n",
       "  </thead>\n",
       "  <tbody>\n",
       "    <tr>\n",
       "      <th>count</th>\n",
       "      <td>1760.000000</td>\n",
       "      <td>1760.000000</td>\n",
       "      <td>1760.000000</td>\n",
       "      <td>1760.000000</td>\n",
       "      <td>1760.000000</td>\n",
       "      <td>1760.000000</td>\n",
       "      <td>1760.000000</td>\n",
       "      <td>1760.000000</td>\n",
       "      <td>1760.000000</td>\n",
       "    </tr>\n",
       "    <tr>\n",
       "      <th>mean</th>\n",
       "      <td>879.500000</td>\n",
       "      <td>2016.738068</td>\n",
       "      <td>7.125000</td>\n",
       "      <td>15.636364</td>\n",
       "      <td>47.164773</td>\n",
       "      <td>74.489773</td>\n",
       "      <td>34.862500</td>\n",
       "      <td>0.348143</td>\n",
       "      <td>0.569102</td>\n",
       "    </tr>\n",
       "    <tr>\n",
       "      <th>std</th>\n",
       "      <td>508.212554</td>\n",
       "      <td>1.708130</td>\n",
       "      <td>2.954699</td>\n",
       "      <td>8.775038</td>\n",
       "      <td>7.190742</td>\n",
       "      <td>56.202356</td>\n",
       "      <td>28.266284</td>\n",
       "      <td>0.183191</td>\n",
       "      <td>0.131244</td>\n",
       "    </tr>\n",
       "    <tr>\n",
       "      <th>min</th>\n",
       "      <td>0.000000</td>\n",
       "      <td>2013.000000</td>\n",
       "      <td>1.000000</td>\n",
       "      <td>1.000000</td>\n",
       "      <td>10.000000</td>\n",
       "      <td>14.000000</td>\n",
       "      <td>0.000000</td>\n",
       "      <td>-0.275000</td>\n",
       "      <td>0.000000</td>\n",
       "    </tr>\n",
       "    <tr>\n",
       "      <th>25%</th>\n",
       "      <td>439.750000</td>\n",
       "      <td>2016.000000</td>\n",
       "      <td>5.000000</td>\n",
       "      <td>8.000000</td>\n",
       "      <td>50.000000</td>\n",
       "      <td>35.000000</td>\n",
       "      <td>15.000000</td>\n",
       "      <td>0.226523</td>\n",
       "      <td>0.489954</td>\n",
       "    </tr>\n",
       "    <tr>\n",
       "      <th>50%</th>\n",
       "      <td>879.500000</td>\n",
       "      <td>2017.000000</td>\n",
       "      <td>7.000000</td>\n",
       "      <td>16.000000</td>\n",
       "      <td>50.000000</td>\n",
       "      <td>58.000000</td>\n",
       "      <td>27.000000</td>\n",
       "      <td>0.343750</td>\n",
       "      <td>0.569116</td>\n",
       "    </tr>\n",
       "    <tr>\n",
       "      <th>75%</th>\n",
       "      <td>1319.250000</td>\n",
       "      <td>2018.000000</td>\n",
       "      <td>10.000000</td>\n",
       "      <td>23.000000</td>\n",
       "      <td>50.000000</td>\n",
       "      <td>96.000000</td>\n",
       "      <td>47.000000</td>\n",
       "      <td>0.459196</td>\n",
       "      <td>0.647285</td>\n",
       "    </tr>\n",
       "    <tr>\n",
       "      <th>max</th>\n",
       "      <td>1759.000000</td>\n",
       "      <td>2020.000000</td>\n",
       "      <td>12.000000</td>\n",
       "      <td>31.000000</td>\n",
       "      <td>50.000000</td>\n",
       "      <td>456.000000</td>\n",
       "      <td>221.000000</td>\n",
       "      <td>1.000000</td>\n",
       "      <td>1.000000</td>\n",
       "    </tr>\n",
       "  </tbody>\n",
       "</table>\n",
       "</div>"
      ],
      "text/plain": [
       "        Unnamed: 0  Year of review  Month of review  Day of review  \\\n",
       "count  1760.000000     1760.000000      1760.000000    1760.000000   \n",
       "mean    879.500000     2016.738068         7.125000      15.636364   \n",
       "std     508.212554        1.708130         2.954699       8.775038   \n",
       "min       0.000000     2013.000000         1.000000       1.000000   \n",
       "25%     439.750000     2016.000000         5.000000       8.000000   \n",
       "50%     879.500000     2017.000000         7.000000      16.000000   \n",
       "75%    1319.250000     2018.000000        10.000000      23.000000   \n",
       "max    1759.000000     2020.000000        12.000000      31.000000   \n",
       "\n",
       "            Rating  Total Words Review  Total StopWords  Polarity Rate  \\\n",
       "count  1760.000000         1760.000000      1760.000000    1760.000000   \n",
       "mean     47.164773           74.489773        34.862500       0.348143   \n",
       "std       7.190742           56.202356        28.266284       0.183191   \n",
       "min      10.000000           14.000000         0.000000      -0.275000   \n",
       "25%      50.000000           35.000000        15.000000       0.226523   \n",
       "50%      50.000000           58.000000        27.000000       0.343750   \n",
       "75%      50.000000           96.000000        47.000000       0.459196   \n",
       "max      50.000000          456.000000       221.000000       1.000000   \n",
       "\n",
       "       Subjectivity Rate  \n",
       "count        1760.000000  \n",
       "mean            0.569102  \n",
       "std             0.131244  \n",
       "min             0.000000  \n",
       "25%             0.489954  \n",
       "50%             0.569116  \n",
       "75%             0.647285  \n",
       "max             1.000000  "
      ]
     },
     "execution_count": 125,
     "metadata": {},
     "output_type": "execute_result"
    }
   ],
   "source": [
    "#checking describe to see some data\n",
    "data_clean.describe()"
   ]
  },
  {
   "cell_type": "markdown",
   "metadata": {},
   "source": [
    "#### Get Conclusions"
   ]
  },
  {
   "cell_type": "markdown",
   "metadata": {},
   "source": [
    "### 1. Restaurant's overall Client Feeling\n",
    "#### Tapa place, great food, nice, restaurant, barcelona"
   ]
  },
  {
   "cell_type": "code",
   "execution_count": 126,
   "metadata": {},
   "outputs": [],
   "source": [
    "#We use plot World Cloud to get the most used words in reviews in a graphic\n",
    "reviews_words=\" \".join([w for w in data_clean[\"Clean Full Review\"]])\n",
    "wordCloud=WordCloud(width=500,height=300,random_state=21,max_font_size=119).generate(reviews_words)"
   ]
  },
  {
   "cell_type": "code",
   "execution_count": 127,
   "metadata": {},
   "outputs": [
    {
     "data": {
      "image/png": "[encoded data removed]",
      "text/plain": [
       "<Figure size 432x288 with 1 Axes>"
      ]
     },
     "metadata": {
      "needs_background": "light"
     },
     "output_type": "display_data"
    }
   ],
   "source": [
    "plt.imshow(wordCloud,interpolation=\"bilinear\")\n",
    "plt.axis(\"off\")\n",
    "plt.show()\n"
   ]
  },
  {
   "cell_type": "markdown",
   "metadata": {},
   "source": [
    "### 2. Restaurant's Client Feeling Evolution\n",
    "#### We see that from 2013 till today the restaurant had the ability to stay stable and recevied an average of good review"
   ]
  },
  {
   "cell_type": "code",
   "execution_count": 142,
   "metadata": {},
   "outputs": [],
   "source": [
    "#Here we have a table with the evolution\n",
    "reviews_time_evolution=pd.pivot_table(data_clean,index=[\"Year of review\",\"Month of review\"], values=\"Polarity Rate\")"
   ]
  },
  {
   "cell_type": "code",
   "execution_count": 143,
   "metadata": {},
   "outputs": [
    {
     "data": {
      "text/html": [
       "<div>\n",
       "<style scoped>\n",
       "    .dataframe tbody tr th:only-of-type {\n",
       "        vertical-align: middle;\n",
       "    }\n",
       "\n",
       "    .dataframe tbody tr th {\n",
       "        vertical-align: top;\n",
       "    }\n",
       "\n",
       "    .dataframe thead th {\n",
       "        text-align: right;\n",
       "    }\n",
       "</style>\n",
       "<table border=\"1\" class=\"dataframe\">\n",
       "  <thead>\n",
       "    <tr style=\"text-align: right;\">\n",
       "      <th></th>\n",
       "      <th></th>\n",
       "      <th>Polarity Rate</th>\n",
       "    </tr>\n",
       "    <tr>\n",
       "      <th>Year of review</th>\n",
       "      <th>Month of review</th>\n",
       "      <th></th>\n",
       "    </tr>\n",
       "  </thead>\n",
       "  <tbody>\n",
       "    <tr>\n",
       "      <th rowspan=\"5\" valign=\"top\">2013</th>\n",
       "      <th>4</th>\n",
       "      <td>0.081250</td>\n",
       "    </tr>\n",
       "    <tr>\n",
       "      <th>5</th>\n",
       "      <td>0.170588</td>\n",
       "    </tr>\n",
       "    <tr>\n",
       "      <th>6</th>\n",
       "      <td>0.208294</td>\n",
       "    </tr>\n",
       "    <tr>\n",
       "      <th>7</th>\n",
       "      <td>0.305309</td>\n",
       "    </tr>\n",
       "    <tr>\n",
       "      <th>8</th>\n",
       "      <td>0.198212</td>\n",
       "    </tr>\n",
       "    <tr>\n",
       "      <th>...</th>\n",
       "      <th>...</th>\n",
       "      <td>...</td>\n",
       "    </tr>\n",
       "    <tr>\n",
       "      <th>2019</th>\n",
       "      <th>12</th>\n",
       "      <td>0.362898</td>\n",
       "    </tr>\n",
       "    <tr>\n",
       "      <th rowspan=\"4\" valign=\"top\">2020</th>\n",
       "      <th>1</th>\n",
       "      <td>0.412677</td>\n",
       "    </tr>\n",
       "    <tr>\n",
       "      <th>2</th>\n",
       "      <td>0.377740</td>\n",
       "    </tr>\n",
       "    <tr>\n",
       "      <th>3</th>\n",
       "      <td>0.367401</td>\n",
       "    </tr>\n",
       "    <tr>\n",
       "      <th>6</th>\n",
       "      <td>0.285417</td>\n",
       "    </tr>\n",
       "  </tbody>\n",
       "</table>\n",
       "<p>83 rows × 1 columns</p>\n",
       "</div>"
      ],
      "text/plain": [
       "                                Polarity Rate\n",
       "Year of review Month of review               \n",
       "2013           4                     0.081250\n",
       "               5                     0.170588\n",
       "               6                     0.208294\n",
       "               7                     0.305309\n",
       "               8                     0.198212\n",
       "...                                       ...\n",
       "2019           12                    0.362898\n",
       "2020           1                     0.412677\n",
       "               2                     0.377740\n",
       "               3                     0.367401\n",
       "               6                     0.285417\n",
       "\n",
       "[83 rows x 1 columns]"
      ]
     },
     "execution_count": 143,
     "metadata": {},
     "output_type": "execute_result"
    }
   ],
   "source": [
    "reviews_time_evolution"
   ]
  },
  {
   "cell_type": "code",
   "execution_count": null,
   "metadata": {},
   "outputs": [],
   "source": [
    "#Here we have a Year-month graph with the evolution\n",
    "#*I found this funny way of playing with the data to be shown*"
   ]
  },
  {
   "cell_type": "code",
   "execution_count": 155,
   "metadata": {},
   "outputs": [
    {
     "data": {
      "text/html": [
       "\n",
       "        <iframe\n",
       "            width=\"100%\"\n",
       "            height=\"500\"\n",
       "            src=\"pivottablejs.html\"\n",
       "            frameborder=\"0\"\n",
       "            allowfullscreen\n",
       "        ></iframe>\n",
       "        "
      ],
      "text/plain": [
       "<IPython.lib.display.IFrame at 0x12452d2d0>"
      ]
     },
     "execution_count": 155,
     "metadata": {},
     "output_type": "execute_result"
    }
   ],
   "source": [
    "from pivottablejs import pivot_ui\n",
    "pivot_ui(reviews_time_evolution)\n",
    "\n"
   ]
  },
  {
   "cell_type": "code",
   "execution_count": null,
   "metadata": {},
   "outputs": [],
   "source": []
  }
 ],
 "metadata": {
  "kernelspec": {
   "display_name": "Python 3",
   "language": "python",
   "name": "python3"
  },
  "language_info": {
   "codemirror_mode": {
    "name": "ipython",
    "version": 3
   },
   "file_extension": ".py",
   "mimetype": "text/x-python",
   "name": "python",
   "nbconvert_exporter": "python",
   "pygments_lexer": "ipython3",
   "version": "3.7.7"
  }
 },
 "nbformat": 4,
 "nbformat_minor": 4
}
